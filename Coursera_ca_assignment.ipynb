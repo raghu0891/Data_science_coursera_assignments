Crime Analytics : Visualization of Incident Reports
Analysis Summary:
 This Analysis Notebook will provide the crime incident analysis for Seattle and Sanfrancisco cities from June to September 2014. Below are the key obeservations from the analyis: (supported by the R-Visualization/scripts below)
 1. Crime rate is higher in Seattle when compared to Sanfrancisco
 2. Lattitude info demonstrates that there are more crimes around the city centre than the other areas.
 3. Seattle is prone to vehicle theft incidents.
 4. SanFrancisco crime rates more pronounced in city center and strangely at peak in afternoon time.

Data Acquisition :
 Following is the R code used to read the csv data and store them in appropriate fields for the analysis (1) above: 
 
 library("ggplot2")

san1 <- read.csv("sanfrancisco_incidents_summer_2014.csv", header = TRUE, stringsAsFactors = FALSE)
sea1 <- read.csv("seattle_incidents_summer_2014.csv", header = TRUE, na.strings = "", stringsAsFactors = FALSE)

sandata <- san1[,c("Category", "Date", "Time")]
names(sandata) <- c("Category", "DateTS", "Time")
sandata$Category <- as.character(sandata$Category)
sandata$DateTS <- as.character(sandata$DateTS)
sandata$Time <- as.character(sandata$Time)

sandata$DateTS <- paste(sandata$DateTS,sandata$Time)
sandata$DateTS <- as.POSIXct(sandata$DateTS, tz="US/Pacific", format = "%m/%d/%Y %H:%M")
sandata$Date <- as.Date(as.POSIXct(sandata$DateTS, tz="US/Pacific"), tz="US/Pacific")
sandata$Year <- as.integer(format(sandata$DateTS, "%Y"))
sandata$Month <- as.integer(format(sandata$DateTS, "%m"))
sandata <- sandata[,c("Category", "DateTS", "Year", "Month", "Date")]
sandata$City <- "San Francisco"

seadata <- sea1[,c("Summarized.Offense.Description", "Occurred.Date.or.Date.Range.Start", "Year", "Month")]
names(seadata) <- c("Category", "DateTS", "Year", "Month")

seadata$Category <- as.character(seadata$Category)
seadata$DateTS <- as.character(seadata$DateTS)
seadata$DateTS <- as.POSIXct(seadata$DateTS, tz="US/Pacific", format = "%m/%d/%Y %H:%M:%S %p")
seadata$Date <- as.Date(as.POSIXct(seadata$DateTS, tz="US/Pacific"), tz="US/Pacific")
seadata <- seadata[,c("Category", "DateTS", "Year", "Month", "Date")]
seadata$City <- "Seattle"
summary(sandata)
summary(seadata)

Data Preparation :
 Below is the R code used to collate the data to compare the crime rates between Sanfrancisco and Seattle :
 
twocities <- rbind(sandata, seadata)
summary(twocities)

crimeFreq <- as.data.frame(table(twocities$Date, twocities$City))
colnames(crimeFreq) <- c("Date", "City", "Freq")
crimeFreq$Date <- as.Date(crimeFreq$Date)
str(crimeFreq)
